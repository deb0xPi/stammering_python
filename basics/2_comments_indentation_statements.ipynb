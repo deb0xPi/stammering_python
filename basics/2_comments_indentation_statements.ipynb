{
  "nbformat": 4,
  "nbformat_minor": 0,
  "metadata": {
    "kernelspec": {
      "display_name": "Python 2",
      "language": "python",
      "name": "python2"
    },
    "language_info": {
      "codemirror_mode": {
        "name": "ipython",
        "version": 2
      },
      "file_extension": ".py",
      "mimetype": "text/x-python",
      "name": "python",
      "nbconvert_exporter": "python",
      "pygments_lexer": "ipython2",
      "version": "2.7.13"
    },
    "colab": {
      "name": "1.3.ipynb",
      "provenance": []
    }
  },
  "cells": [
    {
      "cell_type": "markdown",
      "metadata": {
        "id": "xNziE52uMnKy",
        "colab_type": "text"
      },
      "source": [
        "# Python Comments"
      ]
    },
    {
      "cell_type": "markdown",
      "metadata": {
        "id": "JD8s4Vr8MnK5",
        "colab_type": "text"
      },
      "source": [
        "Comments are lines that exist in computer programs that are ignored by compilers and interpreters. \n",
        "\n",
        "Including comments in programs makes code more readable for humans as it provides some information or explanation about what each part of a program is doing.\n",
        "\n",
        "In general, it is a good idea to write comments while you are writing or updating a program as it is easy to forget your thought process later on, and comments written later may be less useful in the long term. "
      ]
    },
    {
      "cell_type": "markdown",
      "metadata": {
        "id": "7YHF0qY0MnK7",
        "colab_type": "text"
      },
      "source": [
        "In Python, we use the hash (#) symbol to start writing a comment."
      ]
    },
    {
      "cell_type": "code",
      "metadata": {
        "id": "MCvBiyBzMnK8",
        "colab_type": "code",
        "colab": {},
        "outputId": "eae79bba-13fd-4084-bac2-dba2d412b23b"
      },
      "source": [
        "#Print Hello, world to console\n",
        "print(\"Hello, world\")"
      ],
      "execution_count": 0,
      "outputs": [
        {
          "output_type": "stream",
          "text": [
            "Hello, world\n"
          ],
          "name": "stdout"
        }
      ]
    },
    {
      "cell_type": "markdown",
      "metadata": {
        "id": "j0UDYvnHMnLC",
        "colab_type": "text"
      },
      "source": [
        "# Multi Line Comments"
      ]
    },
    {
      "cell_type": "markdown",
      "metadata": {
        "id": "30R2q1CoMnLG",
        "colab_type": "text"
      },
      "source": [
        "If we have comments that extend multiple lines, one way of doing it is to use hash (#) in the beginning of each line."
      ]
    },
    {
      "cell_type": "code",
      "metadata": {
        "collapsed": true,
        "id": "Q_JsDcoKMnLH",
        "colab_type": "code",
        "colab": {}
      },
      "source": [
        "#This is a long comment\n",
        "#and it extends \n",
        "#Multiple lines"
      ],
      "execution_count": 0,
      "outputs": []
    },
    {
      "cell_type": "markdown",
      "metadata": {
        "id": "aB5-0tqSMnLM",
        "colab_type": "text"
      },
      "source": [
        "Another way of doing this is to use triple quotes, either ''' or \"\"\"."
      ]
    },
    {
      "cell_type": "code",
      "metadata": {
        "id": "s-vzkh82MnLN",
        "colab_type": "code",
        "colab": {},
        "outputId": "5a6cfb70-283b-4f4d-d53b-bc00bbff3a86"
      },
      "source": [
        "\"\"\"This is also a\n",
        "perfect example of\n",
        "multi-line comments\"\"\""
      ],
      "execution_count": 0,
      "outputs": [
        {
          "output_type": "execute_result",
          "data": {
            "text/plain": [
              "'This is also a\\nperfect example of\\nmulti-line comments'"
            ]
          },
          "metadata": {
            "tags": []
          },
          "execution_count": 3
        }
      ]
    },
    {
      "cell_type": "markdown",
      "metadata": {
        "id": "thnlLMcWMnLT",
        "colab_type": "text"
      },
      "source": [
        "# DocString in python"
      ]
    },
    {
      "cell_type": "markdown",
      "metadata": {
        "id": "EyXOUC1GMnLU",
        "colab_type": "text"
      },
      "source": [
        "Docstring is short for documentation string.\n",
        "\n",
        "It is a string that occurs as the first statement in a module, function, class, or method definition."
      ]
    },
    {
      "cell_type": "code",
      "metadata": {
        "id": "NCOllRDOMnLW",
        "colab_type": "code",
        "colab": {},
        "outputId": "4940a292-e7d0-4535-a4f6-808ce2744280"
      },
      "source": [
        "def double(num):\n",
        "    \"\"\"\n",
        "    function to double the number\n",
        "    \"\"\"\n",
        "    return 2 * num\n",
        "\n",
        "print double(10)"
      ],
      "execution_count": 0,
      "outputs": [
        {
          "output_type": "stream",
          "text": [
            "20\n"
          ],
          "name": "stdout"
        }
      ]
    },
    {
      "cell_type": "code",
      "metadata": {
        "id": "G4KzuV2vMnLc",
        "colab_type": "code",
        "colab": {},
        "outputId": "b79485b1-3eae-465c-cb90-fb366da6d30a"
      },
      "source": [
        "print double.__doc__ #Docstring is available to us as the attribute __doc__ of the function"
      ],
      "execution_count": 0,
      "outputs": [
        {
          "output_type": "stream",
          "text": [
            "\n",
            "    function to double the number\n",
            "    \n"
          ],
          "name": "stdout"
        }
      ]
    },
    {
      "cell_type": "markdown",
      "metadata": {
        "id": "NmPHZXa8MnLh",
        "colab_type": "text"
      },
      "source": [
        "# Python Indentation"
      ]
    },
    {
      "cell_type": "markdown",
      "metadata": {
        "id": "e0eaOnWmMnLh",
        "colab_type": "text"
      },
      "source": [
        "1. Most of the programming languages like C, C++, Java use braces { } to define a block of code. Python uses indentation.\n",
        "\n",
        "2. A code block (body of a function, loop etc.) starts with indentation and ends with the first unindented line. The amount of indentation is up to you, but it must be consistent throughout that block.\n",
        "\n",
        "3. Generally four whitespaces are used for indentation and is preferred over tabs."
      ]
    },
    {
      "cell_type": "code",
      "metadata": {
        "id": "EdsJoxklMnLi",
        "colab_type": "code",
        "colab": {},
        "outputId": "ae0467e4-e9c9-4e7f-9938-1a447ab09de3"
      },
      "source": [
        "for i in range(10):\n",
        "    print i"
      ],
      "execution_count": 0,
      "outputs": [
        {
          "output_type": "stream",
          "text": [
            "0\n",
            "1\n",
            "2\n",
            "3\n",
            "4\n",
            "5\n",
            "6\n",
            "7\n",
            "8\n",
            "9\n"
          ],
          "name": "stdout"
        }
      ]
    },
    {
      "cell_type": "markdown",
      "metadata": {
        "id": "sX-gune9MnLm",
        "colab_type": "text"
      },
      "source": [
        "Indentation can be ignored in line continuation. But it's a good idea to always indent. It makes the code more readable."
      ]
    },
    {
      "cell_type": "code",
      "metadata": {
        "id": "fYq6XRR9MnLo",
        "colab_type": "code",
        "colab": {},
        "outputId": "ab858ae4-3b9b-45f8-ba2b-239ab870cfa4"
      },
      "source": [
        "if True:\n",
        "    print \"Machine Learning\"\n",
        "    c = \"AAIC\""
      ],
      "execution_count": 0,
      "outputs": [
        {
          "output_type": "stream",
          "text": [
            "Machine Learning\n"
          ],
          "name": "stdout"
        }
      ]
    },
    {
      "cell_type": "code",
      "metadata": {
        "id": "7vRBjMHNMnLv",
        "colab_type": "code",
        "colab": {},
        "outputId": "433f55ec-f199-482c-ab41-dc9ef43d1f32"
      },
      "source": [
        "if True: print \"Machine Learning\"; c = \"AAIC\""
      ],
      "execution_count": 0,
      "outputs": [
        {
          "output_type": "stream",
          "text": [
            "Machine Learning\n"
          ],
          "name": "stdout"
        }
      ]
    },
    {
      "cell_type": "markdown",
      "metadata": {
        "id": "_Y84LCtQMnL3",
        "colab_type": "text"
      },
      "source": [
        "# Python Statement"
      ]
    },
    {
      "cell_type": "markdown",
      "metadata": {
        "id": "LaOcXOhOMnL5",
        "colab_type": "text"
      },
      "source": [
        "Instructions that a Python interpreter can execute are called statements."
      ]
    },
    {
      "cell_type": "markdown",
      "metadata": {
        "id": "vbGzL43EMnL7",
        "colab_type": "text"
      },
      "source": [
        "Examples:"
      ]
    },
    {
      "cell_type": "code",
      "metadata": {
        "collapsed": true,
        "id": "87XyLoh6MnL8",
        "colab_type": "code",
        "colab": {}
      },
      "source": [
        " a = 1  #single statement"
      ],
      "execution_count": 0,
      "outputs": []
    },
    {
      "cell_type": "markdown",
      "metadata": {
        "id": "DdEazqvPMnMA",
        "colab_type": "text"
      },
      "source": [
        "# Multi-Line Statement"
      ]
    },
    {
      "cell_type": "markdown",
      "metadata": {
        "id": "xC7_qG_RMnMB",
        "colab_type": "text"
      },
      "source": [
        "In Python, end of a statement is marked by a newline character. But we can make a statement extend over multiple lines with the line continuation character (\\)."
      ]
    },
    {
      "cell_type": "code",
      "metadata": {
        "collapsed": true,
        "id": "LNZTgq-WMnMC",
        "colab_type": "code",
        "colab": {}
      },
      "source": [
        "a = 1 + 2 + 3 + \\\n",
        "    4 + 5 + 6 + \\\n",
        "    7 + 8"
      ],
      "execution_count": 0,
      "outputs": []
    },
    {
      "cell_type": "code",
      "metadata": {
        "id": "rb1IfaqXMnMH",
        "colab_type": "code",
        "colab": {},
        "outputId": "0c85def5-7855-48ea-89fa-b3c373108a03"
      },
      "source": [
        "print a"
      ],
      "execution_count": 0,
      "outputs": [
        {
          "output_type": "stream",
          "text": [
            "36\n"
          ],
          "name": "stdout"
        }
      ]
    },
    {
      "cell_type": "code",
      "metadata": {
        "id": "hxUalLNxMnMM",
        "colab_type": "code",
        "colab": {},
        "outputId": "c7bba9fe-0db5-4e27-fce6-db07733aadd6"
      },
      "source": [
        "#another way is\n",
        "a = (1 + 2 + 3 +\n",
        "    4 + 5 + 6 + \n",
        "    7 + 8)\n",
        "print a"
      ],
      "execution_count": 0,
      "outputs": [
        {
          "output_type": "stream",
          "text": [
            "36\n"
          ],
          "name": "stdout"
        }
      ]
    },
    {
      "cell_type": "code",
      "metadata": {
        "collapsed": true,
        "id": "ebJl7R_wMnMQ",
        "colab_type": "code",
        "colab": {}
      },
      "source": [
        "a = 10; b = 20; c = 30   #put multiple statements in a single line using ;"
      ],
      "execution_count": 0,
      "outputs": []
    }
  ]
}